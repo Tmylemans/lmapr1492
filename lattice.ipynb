{
 "cells": [
  {
   "cell_type": "code",
   "execution_count": 2,
   "metadata": {},
   "outputs": [
    {
     "name": "stdout",
     "output_type": "stream",
     "text": [
      "Structure : \n",
      " Full Formula (Sc1 Sb1 Pd1)\n",
      "Reduced Formula: ScSbPd\n",
      "abc   :   4.508910   4.508910   4.508910\n",
      "angles:  60.000000  60.000000  60.000000\n",
      "Sites (3)\n",
      "  #  SP       a     b     c    magmom\n",
      "---  ----  ----  ----  ----  --------\n",
      "  0  Sc    0.5   0.5   0.5         -0\n",
      "  1  Sb    0     0     0           -0\n",
      "  2  Pd    0.25  0.25  0.25         0 \n",
      "\n",
      "coordonnées des vecteurs du réseau direct: \n",
      " 3.904831 0.000000 2.254455\n",
      "1.301610 3.681510 2.254455\n",
      "0.000000 0.000000 4.508910 \n",
      "\n",
      "normes des vecteurs du réseau direct (a,b et c): \n",
      " (4.50891, 4.50891, 4.50891) \n",
      "\n",
      "coordonnées des vecteurs du réseau réciproque: \n",
      " 1.609080 -0.568896 0.000000\n",
      "0.000000 1.706687 0.000000\n",
      "-0.804540 -0.568896 1.393504 \n",
      "\n",
      "normes des vecteurs du réseau réciproque (a*,b* et c*): \n",
      " (1.7066871995606885, 1.7066871995606887, 1.7066871995606885) \n",
      "\n",
      "Type de maille du matériau:\n",
      " cubic \n",
      "\n",
      "Type de système cristallin:\n",
      " cubic \n",
      "\n",
      "Groupe ponctuel: \n",
      " F-43m \n",
      "\n"
     ]
    }
   ],
   "source": [
    "from pymatgen.symmetry.analyzer import SpacegroupAnalyzer\n",
    "from pymatgen.ext.matproj import MPRester\n",
    "from pymatgen.core.lattice import Lattice\n",
    "import pymatgen.symmetry.analyzer as span\n",
    "with MPRester(\"z18b57ZwfPDtXJVD\") as m:\n",
    "              \n",
    "    # Structure du matériau\n",
    "    structure = m.get_structure_by_material_id(\"mp-569779\")\n",
    "    print(\"Structure : \\n\",structure , \"\\n\")\n",
    "    \n",
    "    #Création du lattice de structure hexagonal pour affiché les vecteurs du réseau de base et du réseau réciproque\n",
    "    lat=Lattice.rhombohedral(4.508910,60)\n",
    "    \n",
    "    # Coordonnées des vecteurs de base du réseau direct (a,b et c)\n",
    "    print(\"coordonnées des vecteurs du réseau direct: \\n\",lat, \"\\n\")\n",
    "    \n",
    "    # Normes des vecteurs de base du réseau direct (a,b et c)\n",
    "    dir_vect=lat.lengths\n",
    "    print(\"normes des vecteurs du réseau direct (a,b et c): \\n\",dir_vect, \"\\n\")\n",
    "    \n",
    "    # Coordonnées des vecteurs de base du réseau réciproque (a*,b* et c*)\n",
    "    rec_lat= lat.reciprocal_lattice\n",
    "    print(\"coordonnées des vecteurs du réseau réciproque: \\n\",rec_lat, \"\\n\")\n",
    "    \n",
    "    # Normes des vecteurs de base du réseau réciproque (a*,b* et c*)\n",
    "    rec_vect= rec_lat.lengths\n",
    "    print(\"normes des vecteurs du réseau réciproque (a*,b* et c*): \\n\",rec_vect, \"\\n\")\n",
    "    \n",
    "    # Variable pour afficher le type de maille, le système cristallin et le groupe ponctuel\n",
    "    stru=span.SpacegroupAnalyzer(structure)\n",
    "    \n",
    "     # Type de maille du matériau\n",
    "    print(\"Type de maille du matériau:\\n\",stru.get_lattice_type(),\"\\n\")\n",
    "    \n",
    "    # Type de système cristallin du matériau\\n\",\n",
    "    print(\"Type de système cristallin:\\n\",stru.get_crystal_system(), \"\\n\")\n",
    "    \n",
    "    # Groupe ponctuel du matériau\n",
    "    print(\"Groupe ponctuel: \\n\",stru.get_space_group_symbol(), \"\\n\")"
   ]
  }
 ],
 "metadata": {
  "kernelspec": {
   "display_name": "Python 3",
   "language": "python",
   "name": "python3"
  },
  "language_info": {
   "codemirror_mode": {
    "name": "ipython",
    "version": 3
   },
   "file_extension": ".py",
   "mimetype": "text/x-python",
   "name": "python",
   "nbconvert_exporter": "python",
   "pygments_lexer": "ipython3",
   "version": "3.7.3"
  }
 },
 "nbformat": 4,
 "nbformat_minor": 2
}
