{
 "cells": [
  {
   "cell_type": "code",
   "execution_count": 53,
   "metadata": {},
   "outputs": [],
   "source": [
    "from pymatgen import Structure\n",
    "from pymatgen.symmetry.analyzer import SpacegroupAnalyzer\n",
    "from jupyter_jsmol.pymatgen import quick_view\n",
    "from pymatgen.core.operations import SymmOp\n"
   ]
  },
  {
   "cell_type": "code",
   "execution_count": 54,
   "metadata": {},
   "outputs": [],
   "source": [
    "structure = Structure.from_file(\"ScSbPd_mp-569779_symmetrized.cif\")"
   ]
  },
  {
   "cell_type": "code",
   "execution_count": 77,
   "metadata": {},
   "outputs": [
    {
     "data": {
      "application/vnd.jupyter.widget-view+json": {
       "model_id": "ee7d7196832644728ffaafcac7344436",
       "version_major": 2,
       "version_minor": 0
      },
      "text/plain": [
       "JsmolView(layout=Layout(align_self='stretch', height='400px'))"
      ]
     },
     "metadata": {},
     "output_type": "display_data"
    },
    {
     "name": "stdout",
     "output_type": "stream",
     "text": [
      "Remarque : toutes les coordonnees des atomes qui sont donnees dans ce document sont les coordonnees reduites des atomes. De plus, tous les opérateurs présentés ici sont des opérateurs symmorphiques. L'équation représentant la symétrie peut donc s'exprimer sous la forme de la matrice de l'opérateur.\n"
     ]
    }
   ],
   "source": [
    "view = quick_view(structure) #Visualisation d'un seul maille sans opération de symmétrie\n",
    "display(view)\n",
    "print(\"Remarque : toutes les coordonnees des atomes qui sont donnees dans ce document sont les coordonnees reduites des atomes. De plus, tous les opérateurs présentés ici sont des opérateurs symmorphiques. L'équation représentant la symétrie peut donc s'exprimer sous la forme de la matrice de l'opérateur.\")"
   ]
  },
  {
   "cell_type": "code",
   "execution_count": 59,
   "metadata": {},
   "outputs": [
    {
     "data": {
      "application/vnd.jupyter.widget-view+json": {
       "model_id": "6343858640d64fa8b2342a15df110711",
       "version_major": 2,
       "version_minor": 0
      },
      "text/plain": [
       "JsmolView(layout=Layout(align_self='stretch', height='400px'))"
      ]
     },
     "metadata": {},
     "output_type": "display_data"
    },
    {
     "name": "stdout",
     "output_type": "stream",
     "text": [
      "Symetrie 1 : rotation d'ordre 2 autour de l'axe (0.00, 0.00, 1.00) et passant par le point (0.00, 0.00, 0.00).\n",
      "La matrice de rotation est la suivante :\n",
      "[[-1.  0.  0.]\n",
      " [ 0. -1.  0.]\n",
      " [ 0.  0.  1.]]\n",
      "L'opération de symétrie appliquée à l'atome Sc situé en (0.25, 0.25, 0.25) renvoie l'atome Sc situé en \n",
      "[-0.5 -0.5  0.5]\n",
      "Ce qui correspond à l'atome situé en  (0.25, 0.25, 0.25) dans la maille de départ.\n"
     ]
    }
   ],
   "source": [
    "view1=quick_view(structure)\n",
    "display(view1)\n",
    "view1.script(\"draw symop 3 {atomno=21}\")\n",
    "sym1 = SymmOp.from_xyz_string('-x,-y, z')\n",
    "sym1_op = sym1.operate([0.5, 0.5, 0.5])\n",
    "\n",
    "print(\"Symetrie 1 : rotation d'ordre 2 autour de l'axe (0.00, 0.00, 1.00) et passant par le point (0.00, 0.00, 0.00).\" + \"\\n\" + \"La matrice de rotation est la suivante :\")\n",
    "print(sym1.rotation_matrix)\n",
    "print(\"L'opération de symétrie appliquée à l'atome Sc situé en (0.5, 0.5, 0.5) renvoie l'atome Sc situé en \")\n",
    "print(sym1_op)\n",
    "print(\"Ce qui correspond à l'atome situé en  (0.5, 0.5, 0.5) dans la maille de départ.\")"
   ]
  },
  {
   "cell_type": "code",
   "execution_count": 68,
   "metadata": {},
   "outputs": [
    {
     "data": {
      "application/vnd.jupyter.widget-view+json": {
       "model_id": "48ca1c2409404f4cb440df3ee6fe9fe9",
       "version_major": 2,
       "version_minor": 0
      },
      "text/plain": [
       "JsmolView(layout=Layout(align_self='stretch', height='400px'))"
      ]
     },
     "metadata": {},
     "output_type": "display_data"
    },
    {
     "name": "stdout",
     "output_type": "stream",
     "text": [
      "Symetrie 2 : rotation d'ordre 3 autour de l'axe (1.00, 1.00, 1.00) passant par le point (0.00, 0.00, 0.00).\n",
      "La matrice de rotation est la suivante :\n",
      "[[0. 0. 1.]\n",
      " [1. 0. 0.]\n",
      " [0. 1. 0.]]\n",
      "L'opération de symétrie appliquée à l'atome Sb situé en (0.5, 0.00, 0.5) renvoie l'atome Sb situé en \n",
      "[0.5 0.5 0. ]\n"
     ]
    }
   ],
   "source": [
    "view2=quick_view(structure)\n",
    "display(view2)\n",
    "view2.script(\"draw symop 9 {atomno=38}\")\n",
    "sym2 = SymmOp.from_xyz_string('z,x,y')\n",
    "sym2_op = sym2.operate([0.5, 0.00, 0.5])\n",
    "\n",
    "\n",
    "print(\"Symetrie 2 : rotation d'ordre 3 autour de l'axe (1.00, 1.00, 1.00) passant par le point (0.00, 0.00, 0.00).\" + \"\\n\" + \"La matrice de rotation est la suivante :\")\n",
    "print(sym2.rotation_matrix)\n",
    "print(\"L'opération de symétrie appliquée à l'atome Sb situé en (0.5, 0.00, 0.5) renvoie l'atome Sb situé en \")\n",
    "print(sym2_op)"
   ]
  },
  {
   "cell_type": "code",
   "execution_count": 79,
   "metadata": {},
   "outputs": [
    {
     "data": {
      "application/vnd.jupyter.widget-view+json": {
       "model_id": "73f40155d896496296d7ae1c562c9cf9",
       "version_major": 2,
       "version_minor": 0
      },
      "text/plain": [
       "JsmolView(layout=Layout(align_self='stretch', height='400px'))"
      ]
     },
     "metadata": {},
     "output_type": "display_data"
    },
    {
     "name": "stdout",
     "output_type": "stream",
     "text": [
      "Symetrie 3 : plan miroir passant par le point (0.00, 0.00, 0.00) avec pour droite normal l'axe (0, -1, 1)  .\n",
      "La matrice de l'opérateur de réflexion est la suivante :\n",
      "[[1. 0. 0.]\n",
      " [0. 0. 1.]\n",
      " [0. 1. 0.]]\n",
      "L'opération de symétrie appliquée à l'atome Pd situé en (0.25, 0.25,0.75) renvoie l'atome Pd situé en \n",
      "[0.25 0.75 0.25]\n"
     ]
    }
   ],
   "source": [
    "view3=quick_view(structure)\n",
    "display(view3)\n",
    "view3.script(\"draw symop 22 {atomno=3}\")\n",
    "sym3 = SymmOp.from_xyz_string('x, z, y')\n",
    "sym3_op = sym3.operate([0.25, 0.25,0.75])\n",
    "\n",
    "print(\"Symetrie 3 : plan miroir passant par le point (0.00, 0.00, 0.00) avec pour droite normal l'axe (0, -1, 1)  .\" + \"\\n\" + \"La matrice de l'opérateur de réflexion est la suivante :\")\n",
    "print(sym3.rotation_matrix)\n",
    "print(\"L'opération de symétrie appliquée à l'atome Pd situé en (0.25, 0.25,0.75) renvoie l'atome Pd situé en \")\n",
    "print(sym3_op)"
   ]
  },
  {
   "cell_type": "code",
   "execution_count": null,
   "metadata": {},
   "outputs": [],
   "source": []
  }
 ],
 "metadata": {
  "kernelspec": {
   "display_name": "Python 3",
   "language": "python",
   "name": "python3"
  },
  "language_info": {
   "codemirror_mode": {
    "name": "ipython",
    "version": 3
   },
   "file_extension": ".py",
   "mimetype": "text/x-python",
   "name": "python",
   "nbconvert_exporter": "python",
   "pygments_lexer": "ipython3",
   "version": "3.7.3"
  }
 },
 "nbformat": 4,
 "nbformat_minor": 2
}
